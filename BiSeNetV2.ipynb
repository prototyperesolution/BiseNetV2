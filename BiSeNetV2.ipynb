{
 "cells": [
  {
   "cell_type": "code",
   "execution_count": 9,
   "id": "7e5ab5e7",
   "metadata": {},
   "outputs": [],
   "source": [
    "\"\"\"all necessary imports\"\"\"\n",
    "\n",
    "import tensorflow as tf\n",
    "from tensorflow import keras\n",
    "import numpy as np\n",
    "import matplotlib.pyplot as plt\n",
    "from tensorflow import Tensor\n",
    "from sklearn.preprocessing import MinMaxScaler, StandardScaler\n",
    "import cv2\n",
    "import glob\n",
    "import os\n",
    "import random\n",
    "import os\n",
    "from os import listdir\n",
    "from os.path import isfile, join\n",
    "import keras.backend as K\n",
    "AUTOTUNE = tf.data.experimental.AUTOTUNE\n",
    "import re"
   ]
  },
  {
   "cell_type": "code",
   "execution_count": 2,
   "id": "9b11dbf3",
   "metadata": {},
   "outputs": [],
   "source": [
    "img_size = [512,512]"
   ]
  },
  {
   "cell_type": "code",
   "execution_count": 68,
   "id": "0045bc04",
   "metadata": {},
   "outputs": [],
   "source": [
    "#defining face classes and correspondent colours\n",
    "\n",
    "FACE_SEM_CLASSES = [\n",
    "    \"background\",\n",
    "    \"skin\",\n",
    "    'nose',\n",
    "    'eye_g',\n",
    "    'l_eye',\n",
    "    'r_eye',\n",
    "    'l_brow',\n",
    "    'r_brow',\n",
    "    'l_ear',\n",
    "    'r_ear',\n",
    "    'mouth',\n",
    "    'u_lip',\n",
    "    'l_lip',\n",
    "    'hair',\n",
    "    'hat',\n",
    "    'ear_r',\n",
    "    'neck_l',\n",
    "    'neck',\n",
    "    'cloth'\n",
    "]\n",
    "\n",
    "FACE_SEM_COLORS = [\n",
    "    (128, 64, 128),\n",
    "    (244, 35, 232),\n",
    "    (70, 70, 70),\n",
    "    (192, 0, 128),\n",
    "    (190, 153, 153),\n",
    "    (153, 153, 153),\n",
    "    (250, 170, 30),\n",
    "    (220, 220, 0),\n",
    "    (107, 142, 35),\n",
    "    (152, 251, 152),\n",
    "    (70, 130, 180),\n",
    "    (220, 20, 60),\n",
    "    (230, 150, 140),\n",
    "    (0, 0, 142),\n",
    "    (0, 0, 70),\n",
    "    (90, 40, 40),\n",
    "    (0, 80, 100),\n",
    "    (0, 254, 254),\n",
    "    (0, 68, 63),\n",
    "]\n"
   ]
  },
  {
   "cell_type": "code",
   "execution_count": 245,
   "id": "64636d34",
   "metadata": {},
   "outputs": [],
   "source": [
    "#narrowing the list of classes and colours down to what we want\n",
    "face_classes = ['skin']\n",
    "face_colours = []\n",
    "for face_class in face_classes:\n",
    "    face_colours.append(FACE_SEM_COLORS[FACE_SEM_CLASSES.index(face_class)])"
   ]
  },
  {
   "cell_type": "code",
   "execution_count": 246,
   "id": "da0d93bc",
   "metadata": {},
   "outputs": [],
   "source": [
    "img_path = 'D:\\\\face_detection_v2\\\\Mask_RCNN-master\\\\CelebAMask-HQ\\\\CelebA-HQ-img\\\\'\n",
    "all_image_paths = [f for f in listdir(img_path) if isfile(join(img_path, f))]\n",
    "all_image_paths = [str(img_path)+str(path) for path in all_image_paths]\n",
    "\n",
    "all_mask_paths = all_image_paths"
   ]
  },
  {
   "cell_type": "code",
   "execution_count": 247,
   "id": "1dd723fe",
   "metadata": {},
   "outputs": [
    {
     "name": "stdout",
     "output_type": "stream",
     "text": [
      "30000\n"
     ]
    }
   ],
   "source": [
    "print(len(all_mask_paths))"
   ]
  },
  {
   "cell_type": "code",
   "execution_count": 248,
   "id": "9e59ec32",
   "metadata": {},
   "outputs": [],
   "source": [
    "def load_and_preprocess_mask(path):\n",
    "    return preprocess_mask(path)"
   ]
  },
  {
   "cell_type": "code",
   "execution_count": 249,
   "id": "c317599e",
   "metadata": {},
   "outputs": [],
   "source": [
    "def load_and_preprocess_image(path):\n",
    "    image = tf.io.read_file(path)\n",
    "    return preprocess_image(image)"
   ]
  },
  {
   "cell_type": "code",
   "execution_count": 250,
   "id": "dade7326",
   "metadata": {},
   "outputs": [],
   "source": [
    "def preprocess_mask(image_path):\n",
    "    image_path = image_path.numpy()\n",
    "    image_number = int(image_path[66:-4])\n",
    "    #print(image_number)\n",
    "    mask_directory_number = (int(image_number/2000))\n",
    "    image_string = list('00000')\n",
    "    image_string[-len(str(image_number)):] = list(str(image_number))\n",
    "    image_string = (''.join(image_string))\n",
    "    mask_layers = np.zeros((img_size[0],img_size[1],len(face_classes)+1))\n",
    "    for i in range(len(face_classes)):\n",
    "        mask_filename = str(image_string+'_'+face_classes[i]+'.png')\n",
    "        mask_directory = str('D:\\\\face_detection_v2\\\\Mask_RCNN-master\\\\CelebAMask-HQ\\\\CelebAMask-HQ-mask-anno\\\\'+str(mask_directory_number)+'\\\\')\n",
    "        mask_path = join(mask_directory, mask_filename)\n",
    "        image = tf.io.read_file(mask_path)\n",
    "        image = tf.image.decode_png(image, channels=3)\n",
    "        image = image.numpy()[:,:,0]\n",
    "        image = (image/255).astype(np.float32)\n",
    "        mask_layers[:,:,i] = image\n",
    "    \n",
    "    total_mask = np.sum(mask_layers, axis=-1)\n",
    "    background_mask = (total_mask==0).astype(np.float32)\n",
    "    mask_layers[:,:,-1] = background_mask\n",
    "    mask_layers = tf.convert_to_tensor(mask_layers, dtype=tf.float32, dtype_hint=None, name=None)\n",
    "    return mask_layers"
   ]
  },
  {
   "cell_type": "code",
   "execution_count": 251,
   "id": "4aac96a4",
   "metadata": {},
   "outputs": [],
   "source": [
    "def preprocess_image(image):\n",
    "    image = tf.image.decode_jpeg(image, channels=3)\n",
    "    #only one channel needed\n",
    "    image = tf.image.resize(image, img_size)\n",
    "    image /= 255.0  # normalize to [0,1] range\n",
    "\n",
    "    return image"
   ]
  },
  {
   "cell_type": "code",
   "execution_count": 252,
   "id": "e25a3758",
   "metadata": {},
   "outputs": [],
   "source": [
    "#creating map of images and masks, but only their filenames\n",
    "img_path_ds = tf.data.Dataset.from_tensor_slices(all_image_paths)\n",
    "mask_path_ds = tf.data.Dataset.from_tensor_slices(all_mask_paths)\n",
    "image_ds = img_path_ds.map(load_and_preprocess_image, num_parallel_calls=AUTOTUNE)\n",
    "mask_ds = mask_path_ds.map(lambda x: tf.py_function(preprocess_mask, [x], tf.float32), num_parallel_calls=AUTOTUNE)\n",
    "image_mask_ds = tf.data.Dataset.zip((image_ds, mask_ds))\n",
    "image_mask_ds = image_mask_ds.batch(5)"
   ]
  },
  {
   "cell_type": "code",
   "execution_count": 253,
   "id": "7ca18beb",
   "metadata": {},
   "outputs": [],
   "source": [
    "class ConvBlock(tf.keras.Model):\n",
    "    def __init__(self, channels, \n",
    "                  kernel_size=3, \n",
    "                  strides=1, \n",
    "                  groups=1, \n",
    "                  bias=False,\n",
    "                relu = False):\n",
    "        self.relu_needed = relu\n",
    "        super(ConvBlock, self).__init__()\n",
    "        self.conv = tf.keras.layers.Conv2D(filters=channels, kernel_size=kernel_size, \n",
    "                                           strides=strides, padding='same',\n",
    "                                          groups=groups,use_bias=bias)\n",
    "        self.BN = tf.keras.layers.BatchNormalization()\n",
    "        self.ReLU = tf.keras.layers.ReLU()\n",
    "    \n",
    "    def call(self, inputs):\n",
    "        conved = self.conv(inputs)\n",
    "        normed = self.BN(conved)\n",
    "        if self.relu_needed:\n",
    "            relued = self.ReLU(normed)\n",
    "            return relued\n",
    "        else:\n",
    "            return normed"
   ]
  },
  {
   "cell_type": "code",
   "execution_count": 254,
   "id": "42c7c338",
   "metadata": {},
   "outputs": [],
   "source": [
    "class StemBlock(tf.keras.Model):\n",
    "    def __init__(self):\n",
    "        super(StemBlock, self).__init__()\n",
    "        self.conv1 = ConvBlock(channels = 16, strides=2)\n",
    "        self.left_path = tf.keras.Sequential([\n",
    "            ConvBlock(channels = 8, kernel_size=1),\n",
    "            ConvBlock(channels = 16, kernel_size=3, strides=2)\n",
    "        ])\n",
    "        self.right_path = tf.keras.layers.MaxPooling2D(pool_size=(3,3), strides=2, padding='same')\n",
    "        \n",
    "        self.concat_conv = ConvBlock(channels = 16)\n",
    "    \n",
    "    def call(self,inputs):\n",
    "        conved = self.conv1(inputs)\n",
    "        left = self.left_path(conved)\n",
    "        right = self.right_path(conved)\n",
    "        \n",
    "        concat = tf.concat((left, right), axis=-1)\n",
    "        output = self.concat_conv(concat)\n",
    "        return output"
   ]
  },
  {
   "cell_type": "code",
   "execution_count": 255,
   "id": "24168d4f",
   "metadata": {},
   "outputs": [],
   "source": [
    "#left path:\n",
    "#1 regular conv, in_chan to in_chan kernel 3\n",
    "#2 DW conv, in_chan to mid_chan kernel 3 groups in_chan\n",
    "#3 DW conv, mid_chan to mid_chan kernel 3 groups mid_chan\n",
    "#4 Separable conv, mid_chan to out_chan kernel 1 groups 1\n",
    "class GatherAndExpandBlock(tf.keras.Model):\n",
    "    def __init__(self, in_channels, out_channels, strides = 1, expansion_factor=6):\n",
    "        super(GatherAndExpandBlock, self).__init__()\n",
    "        bottleneck_channels = int(in_channels*expansion_factor)\n",
    "        self.right_exists = False\n",
    "        \n",
    "        if strides == 2:\n",
    "            self.right_exists = True\n",
    "            self.left_path = tf.keras.Sequential([\n",
    "                ConvBlock(in_channels, kernel_size = 3),\n",
    "                ConvBlock(bottleneck_channels, kernel_size = 3, strides = 2, groups = in_channels, relu=False),\n",
    "                ConvBlock(bottleneck_channels, kernel_size = 3, groups=bottleneck_channels, relu=False),\n",
    "                ConvBlock(out_channels, kernel_size=1, relu=False)\n",
    "            ])\n",
    "\n",
    "            self.right_path = tf.keras.Sequential([\n",
    "                ConvBlock(bottleneck_channels, kernel_size=3, strides=2, groups=in_channels, relu=False),\n",
    "                ConvBlock(out_channels, kernel_size=1, relu=False)\n",
    "            ])\n",
    "        \n",
    "        \n",
    "        else:\n",
    "            self.left_path = tf.keras.Sequential([\n",
    "                ConvBlock(bottleneck_channels, kernel_size = 3),\n",
    "                ConvBlock(bottleneck_channels, kernel_size = 3, groups=bottleneck_channels, relu=False),\n",
    "                ConvBlock(out_channels, kernel_size=1, relu=False)\n",
    "            ])\n",
    "    \n",
    "    def call(self, inputs):\n",
    "        output = self.left_path(inputs)\n",
    "        if self.right_exists:\n",
    "            right = self.right_path(inputs)\n",
    "            output = tf.keras.layers.Add()([output, right])\n",
    "        \n",
    "        output = tf.keras.layers.ReLU()(output)\n",
    "        \n",
    "        return output\n",
    "        "
   ]
  },
  {
   "cell_type": "code",
   "execution_count": 256,
   "id": "5bcd760e",
   "metadata": {},
   "outputs": [],
   "source": [
    "class ContextEmbeddingBlock(tf.keras.Model):\n",
    "    def __init__(self, in_channels):\n",
    "        super(ContextEmbeddingBlock, self).__init__()\n",
    "        self.main_path = tf.keras.Sequential([\n",
    "            tf.keras.layers.GlobalAveragePooling2D(keepdims=True),\n",
    "            tf.keras.layers.BatchNormalization(),\n",
    "            ConvBlock(channels = in_channels, strides = 1, kernel_size = 1)\n",
    "        ])\n",
    "        self.last_conv = ConvBlock(channels = in_channels, strides = 1, kernel_size = 3, relu=False)\n",
    "    \n",
    "    def call(self, inputs):\n",
    "        main = self.main_path(inputs)\n",
    "        added = main+inputs\n",
    "        output = self.last_conv(added)\n",
    "        \n",
    "        return output"
   ]
  },
  {
   "cell_type": "code",
   "execution_count": 257,
   "id": "67c6245f",
   "metadata": {},
   "outputs": [],
   "source": [
    "class SegmentHead(tf.keras.Model):\n",
    "    #this is a model rather than layer so that weights can be saved and retrieved\n",
    "    def __init__(self, in_channels, n_classes, dropout = 0.1, expansion_factor = 6, size = None):\n",
    "        self.size = size\n",
    "        super(SegmentHead, self).__init__()\n",
    "        bottleneck_channels = in_channels*expansion_factor\n",
    "        self.main_path = tf.keras.Sequential([\n",
    "            ConvBlock(channels = bottleneck_channels, kernel_size = 3),\n",
    "            tf.keras.layers.Dropout(dropout),\n",
    "            tf.keras.layers.Conv2D(filters = n_classes, kernel_size = 1, padding='same')\n",
    "        ])\n",
    "        \n",
    "    def call(self, inputs):\n",
    "        features = inputs\n",
    "        main = self.main_path(inputs)\n",
    "        \n",
    "        if self.size:\n",
    "            upsampled = tf.image.resize(\n",
    "                main,\n",
    "                self.size,\n",
    "                name='segmentation_head_logits'\n",
    "            )\n",
    "            return upsampled#tf.keras.activations.sigmoid(upsampled)\n",
    "        else:\n",
    "            return main#tf.keras.activations.sigmoid(main)"
   ]
  },
  {
   "cell_type": "code",
   "execution_count": 258,
   "id": "f5ac62e8",
   "metadata": {},
   "outputs": [],
   "source": [
    "class DetailBranch(tf.keras.Model):\n",
    "    def __init__(self):\n",
    "        super(DetailBranch, self).__init__()\n",
    "        self.s1 = tf.keras.Sequential([\n",
    "            ConvBlock(channels = 64, kernel_size = 3, strides = 2),\n",
    "            ConvBlock(channels = 64, kernel_size = 3, strides = 1)\n",
    "        ])\n",
    "        self.s2 = tf.keras.Sequential([\n",
    "            ConvBlock(channels = 64, kernel_size = 3, strides = 2),\n",
    "            ConvBlock(channels = 64, kernel_size = 3, strides = 1),\n",
    "            ConvBlock(channels = 64, kernel_size = 3, strides = 1)\n",
    "        ])\n",
    "        self.s3 = tf.keras.Sequential([\n",
    "            ConvBlock(channels = 128, kernel_size = 3, strides = 2),\n",
    "            ConvBlock(channels = 128, kernel_size = 3, strides = 1),\n",
    "            ConvBlock(channels = 128, kernel_size = 3, strides = 1)\n",
    "        ])\n",
    "    \n",
    "    def call(self, inputs):\n",
    "        s1_result = self.s1(inputs)\n",
    "        s2_result = self.s2(s1_result)\n",
    "        s3_result = self.s3(s2_result)\n",
    "        \n",
    "        return s3_result"
   ]
  },
  {
   "cell_type": "code",
   "execution_count": 259,
   "id": "2592d66c",
   "metadata": {},
   "outputs": [],
   "source": [
    "class SemanticBranch(tf.keras.Model):\n",
    "    def __init__(self):\n",
    "        super(SemanticBranch, self).__init__()\n",
    "        self.stem = StemBlock()\n",
    "        self.stage_1 = tf.keras.Sequential([\n",
    "            GatherAndExpandBlock(in_channels = 16, out_channels= 32, expansion_factor = 6, strides = 2),\n",
    "            GatherAndExpandBlock(in_channels = 32, out_channels= 32, expansion_factor = 6, strides = 1),\n",
    "        ])\n",
    "        self.stage_2 = tf.keras.Sequential([\n",
    "            GatherAndExpandBlock(in_channels = 32, out_channels= 64, expansion_factor = 6, strides = 2),\n",
    "            GatherAndExpandBlock(in_channels = 64, out_channels= 64, expansion_factor = 6, strides = 1),\n",
    "        ])\n",
    "        self.stage_3 = tf.keras.Sequential([\n",
    "            GatherAndExpandBlock(in_channels = 64, out_channels= 128, expansion_factor = 6, strides = 2),\n",
    "            GatherAndExpandBlock(in_channels = 128, out_channels= 128, expansion_factor = 6, strides = 1),\n",
    "            GatherAndExpandBlock(in_channels = 128, out_channels= 128, expansion_factor = 6, strides = 1),\n",
    "            GatherAndExpandBlock(in_channels = 128, out_channels= 128, expansion_factor = 6, strides = 1),\n",
    "        ])\n",
    "        self.final_stage = ContextEmbeddingBlock(in_channels = 128)\n",
    "    \n",
    "    def call(self, inputs):\n",
    "        stem_output = self.stem(inputs)\n",
    "        s1_output = self.stage_1(stem_output)\n",
    "        s2_output = self.stage_2(s1_output)\n",
    "        s3_output = self.stage_3(s2_output)\n",
    "        final_output = self.final_stage(s3_output)\n",
    "        \n",
    "        return stem_output, s1_output, s2_output, s3_output, final_output"
   ]
  },
  {
   "cell_type": "code",
   "execution_count": 260,
   "id": "3b469215",
   "metadata": {},
   "outputs": [],
   "source": [
    "class BilateralGuidedAggregation(tf.keras.layers.Layer):\n",
    "    def __init__(self):\n",
    "        super(BilateralGuidedAggregation, self).__init__()\n",
    "        \n",
    "        self.detail_left = tf.keras.Sequential([\n",
    "            ConvBlock(128, kernel_size=3, groups=128),\n",
    "            tf.keras.layers.Conv2D(filters = 128, kernel_size = 1, groups = 1, padding='same')\n",
    "        ])\n",
    "        self.detail_right = tf.keras.Sequential([\n",
    "            ConvBlock(128, kernel_size=3, strides=2),\n",
    "            tf.keras.layers.AveragePooling2D(pool_size=(3,3), strides = 2, padding='same')\n",
    "        ])\n",
    "        \n",
    "        self.semantic_left = tf.keras.Sequential([\n",
    "            ConvBlock(128, kernel_size=3),\n",
    "            tf.keras.layers.UpSampling2D(size=(4, 4)),\n",
    "            #tf.keras.activations.sigmoid()\n",
    "        ])\n",
    "        \n",
    "        self.semantic_right = tf.keras.Sequential([\n",
    "            ConvBlock(128, kernel_size=3, groups=128),\n",
    "            ConvBlock(128, kernel_size=1)\n",
    "            #tf.keras.activations.sigmoid()\n",
    "        ])\n",
    "        \n",
    "        self.final_conv = tf.keras.Sequential([\n",
    "            ConvBlock(128, kernel_size=3)\n",
    "        ])\n",
    "    \n",
    "    def call(self, inputs):\n",
    "        details, semantics = inputs\n",
    "        dsize = details.shape[1:3]\n",
    "        \n",
    "        \n",
    "        #leftmost output\n",
    "        left_sem = tf.keras.activations.sigmoid(self.semantic_left(semantics))\n",
    "        left_det = self.detail_left(details)\n",
    "        left = left_sem*left_det\n",
    "        \n",
    "        #rightmost output\n",
    "        right_sem = tf.keras.activations.sigmoid(self.semantic_right(semantics))\n",
    "        right_det = self.detail_right(details)\n",
    "        right = right_sem*right_det\n",
    "        right = tf.image.resize(right, dsize)\n",
    "    \n",
    "        \n",
    "        total = tf.keras.layers.Add()([right, left])\n",
    "        output = self.final_conv(total)\n",
    "        \n",
    "        return output\n",
    "        \n",
    "        "
   ]
  },
  {
   "cell_type": "code",
   "execution_count": 261,
   "id": "74fa6e0b",
   "metadata": {},
   "outputs": [],
   "source": [
    "class BiseNetV2_training_ver(tf.keras.Model):\n",
    "    def __init__(self, n_classes, dims):\n",
    "        #dims is a 1d list of 2 numbers, those being height and width of image\n",
    "        super(BiseNetV2_training_ver, self).__init__()\n",
    "        self.semantic = SemanticBranch()\n",
    "        self.details = DetailBranch()\n",
    "        self.stem_boost = SegmentHead(in_channels = 16, n_classes = n_classes, size=dims)\n",
    "        self.s1_boost = SegmentHead(in_channels = 32, n_classes = n_classes, size=dims)\n",
    "        self.s2_boost = SegmentHead(in_channels = 64, n_classes = n_classes, size=dims)\n",
    "        self.s3_boost = SegmentHead(in_channels = 128, n_classes = n_classes, size=dims)\n",
    "        self.aggregation_layer = BilateralGuidedAggregation()\n",
    "        self.output_head = SegmentHead(in_channels = 128, n_classes = n_classes, size=dims)\n",
    "    \n",
    "    def call(self, inputs):\n",
    "        stem_output, s1_output, s2_output, s3_output, final_output = self.semantic(inputs)\n",
    "        stem_output = self.stem_boost(stem_output)\n",
    "        s1_final = self.s1_boost(s1_output)\n",
    "        s2_final = self.s2_boost(s2_output)\n",
    "        s3_final = self.s3_boost(s3_output)\n",
    "        details = self.details(inputs)\n",
    "        combined = self.aggregation_layer([details, final_output])\n",
    "        \n",
    "        combined_output = self.output_head(combined)\n",
    "        \n",
    "        return stem_output, s1_final, s2_final, s3_final, combined_output\n",
    "\n",
    "\n",
    "    def gen_dice(self, y_true, y_pred, eps=1e-6):\n",
    "        \"\"\"both tensors are [b, h, w, classes] and y_pred is in logit form\"\"\"\n",
    "\n",
    "        # [b, h, w, classes]\n",
    "        pred_tensor = tf.nn.softmax(y_pred, axis = -1)\n",
    "        y_true_shape = tf.shape(y_true)\n",
    "\n",
    "        # [b, h*w, classes]\n",
    "        y_true = tf.reshape(y_true, [y_true_shape[0], y_true_shape[1]*y_true_shape[2], y_true_shape[3]])\n",
    "        y_pred = tf.reshape(pred_tensor, [y_true_shape[0], y_true_shape[1]*y_true_shape[2], y_true_shape[3]])\n",
    "\n",
    "        # [b, classes]\n",
    "        # count how many of each class are present in \n",
    "        # each image, if there are zero, then assign\n",
    "        # them a fixed weight of eps\n",
    "        counts = tf.reduce_sum(y_true, axis=1)\n",
    "        weights = 1. / (counts ** 2)\n",
    "        weights = tf.where(tf.math.is_finite(weights), weights, eps)\n",
    "\n",
    "        multed = tf.reduce_sum(y_true * y_pred, axis=1)\n",
    "        summed = tf.reduce_sum(y_true + y_pred, axis=1)\n",
    "\n",
    "        # [b]\n",
    "        numerators = tf.reduce_sum(weights*multed, axis=-1)\n",
    "        denom = tf.reduce_sum(weights*summed, axis=-1)\n",
    "        dices = 1. - 2. * numerators / denom\n",
    "        dices = tf.where(tf.math.is_finite(dices), dices, tf.zeros_like(dices))\n",
    "        return tf.reduce_mean(dices)\n",
    "    \n",
    "    def dice_coef(self, y_true, y_pred, smooth=1):\n",
    "        \"\"\"\n",
    "        Dice = (2*|X & Y|)/ (|X|+ |Y|)\n",
    "             =  2*sum(|A*B|)/(sum(A^2)+sum(B^2))\n",
    "        ref: https://arxiv.org/pdf/1606.04797v1.pdf\n",
    "        \"\"\"\n",
    "        intersection = K.sum(K.abs(y_true * y_pred), axis=-1)\n",
    "        return (2. * intersection + smooth) / (K.sum(K.square(y_true),-1) + K.sum(K.square(y_pred),-1) + smooth)\n",
    "\n",
    "    def dice_coef_loss(self,y_true, y_pred):\n",
    "        return 1-self.dice_coef(y_true, y_pred)\n",
    "            \n",
    "    \n",
    "    def train_step(self, data):\n",
    "        image, segmentation = data\n",
    "        with tf.GradientTape() as tape:\n",
    "            stem_output, s1_output, s2_output, s3_output, combined_output = self.call(image)\n",
    "            seg_outputs = [stem_output, s1_output, s2_output, s3_output]\n",
    "            \n",
    "            main_loss = self.gen_dice(segmentation, combined_output)\n",
    "            \n",
    "            seg_loss = sum([(self.gen_dice(segmentation, seg)) for seg in seg_outputs])\n",
    "            seg_loss = tf.reduce_mean(seg_loss)\n",
    "            #seg_loss = 0\n",
    "            \n",
    "            total_loss = main_loss + seg_loss\n",
    "        grads = tape.gradient(total_loss, self.trainable_weights)\n",
    "        self.optimizer.apply_gradients(zip(grads, self.trainable_weights))\n",
    "        return({\n",
    "            'total loss':total_loss, 'main loss':main_loss, 'seg_loss':seg_loss\n",
    "        })\n",
    "            "
   ]
  },
  {
   "cell_type": "code",
   "execution_count": 397,
   "id": "d918cbf3",
   "metadata": {},
   "outputs": [],
   "source": [
    "test_network = BiseNetV2_training_ver(len(face_classes)+1,img_size)"
   ]
  },
  {
   "cell_type": "code",
   "execution_count": 398,
   "id": "eef56930",
   "metadata": {},
   "outputs": [],
   "source": [
    "opt = tf.keras.optimizers.Adam(1e-4)\n",
    "\n",
    "test_network.compile(optimizer=opt)"
   ]
  },
  {
   "cell_type": "code",
   "execution_count": 370,
   "id": "c8ef33d9",
   "metadata": {},
   "outputs": [
    {
     "name": "stdout",
     "output_type": "stream",
     "text": [
      "Epoch 1/600\n",
      "6000/6000 [==============================] - 1262s 210ms/step - total loss: 0.3933 - main loss: 0.0307 - seg_loss: 0.3627\n",
      "Epoch 2/600\n",
      "6000/6000 [==============================] - 1298s 216ms/step - total loss: 0.3832 - main loss: 0.0295 - seg_loss: 0.3536\n",
      "Epoch 3/600\n",
      "6000/6000 [==============================] - 1298s 216ms/step - total loss: 0.3755 - main loss: 0.0287 - seg_loss: 0.3468\n",
      "Epoch 4/600\n",
      "6000/6000 [==============================] - 1296s 216ms/step - total loss: 0.3689 - main loss: 0.0279 - seg_loss: 0.3410\n",
      "Epoch 5/600\n",
      "6000/6000 [==============================] - 1297s 216ms/step - total loss: 0.3637 - main loss: 0.0274 - seg_loss: 0.3363\n",
      "Epoch 6/600\n",
      "6000/6000 [==============================] - 1297s 216ms/step - total loss: 0.3594 - main loss: 0.0271 - seg_loss: 0.3324\n",
      "Epoch 7/600\n",
      "6000/6000 [==============================] - 1294s 216ms/step - total loss: 0.3558 - main loss: 0.0267 - seg_loss: 0.3291\n",
      "Epoch 8/600\n",
      "6000/6000 [==============================] - 1289s 215ms/step - total loss: 0.3528 - main loss: 0.0264 - seg_loss: 0.3263\n",
      "Epoch 9/600\n",
      "6000/6000 [==============================] - 1296s 216ms/step - total loss: 0.3501 - main loss: 0.0263 - seg_loss: 0.3238\n",
      "Epoch 10/600\n",
      "2473/6000 [===========>..................] - ETA: 12:41 - total loss: 0.3536 - main loss: 0.0271 - seg_loss: 0.3265"
     ]
    },
    {
     "ename": "KeyboardInterrupt",
     "evalue": "",
     "output_type": "error",
     "traceback": [
      "\u001b[1;31m---------------------------------------------------------------------------\u001b[0m",
      "\u001b[1;31mKeyboardInterrupt\u001b[0m                         Traceback (most recent call last)",
      "\u001b[1;32m~\\AppData\\Local\\Temp/ipykernel_2832/3888083032.py\u001b[0m in \u001b[0;36m<module>\u001b[1;34m\u001b[0m\n\u001b[1;32m----> 1\u001b[1;33m \u001b[0mtest_network\u001b[0m\u001b[1;33m.\u001b[0m\u001b[0mfit\u001b[0m\u001b[1;33m(\u001b[0m\u001b[0mimage_mask_ds\u001b[0m\u001b[1;33m,\u001b[0m \u001b[0mepochs\u001b[0m \u001b[1;33m=\u001b[0m \u001b[1;36m600\u001b[0m\u001b[1;33m)\u001b[0m\u001b[1;33m\u001b[0m\u001b[1;33m\u001b[0m\u001b[0m\n\u001b[0m",
      "\u001b[1;32m~\\.conda\\envs\\tensorflow25\\lib\\site-packages\\keras\\utils\\traceback_utils.py\u001b[0m in \u001b[0;36merror_handler\u001b[1;34m(*args, **kwargs)\u001b[0m\n\u001b[0;32m     62\u001b[0m     \u001b[0mfiltered_tb\u001b[0m \u001b[1;33m=\u001b[0m \u001b[1;32mNone\u001b[0m\u001b[1;33m\u001b[0m\u001b[1;33m\u001b[0m\u001b[0m\n\u001b[0;32m     63\u001b[0m     \u001b[1;32mtry\u001b[0m\u001b[1;33m:\u001b[0m\u001b[1;33m\u001b[0m\u001b[1;33m\u001b[0m\u001b[0m\n\u001b[1;32m---> 64\u001b[1;33m       \u001b[1;32mreturn\u001b[0m \u001b[0mfn\u001b[0m\u001b[1;33m(\u001b[0m\u001b[1;33m*\u001b[0m\u001b[0margs\u001b[0m\u001b[1;33m,\u001b[0m \u001b[1;33m**\u001b[0m\u001b[0mkwargs\u001b[0m\u001b[1;33m)\u001b[0m\u001b[1;33m\u001b[0m\u001b[1;33m\u001b[0m\u001b[0m\n\u001b[0m\u001b[0;32m     65\u001b[0m     \u001b[1;32mexcept\u001b[0m \u001b[0mException\u001b[0m \u001b[1;32mas\u001b[0m \u001b[0me\u001b[0m\u001b[1;33m:\u001b[0m  \u001b[1;31m# pylint: disable=broad-except\u001b[0m\u001b[1;33m\u001b[0m\u001b[1;33m\u001b[0m\u001b[0m\n\u001b[0;32m     66\u001b[0m       \u001b[0mfiltered_tb\u001b[0m \u001b[1;33m=\u001b[0m \u001b[0m_process_traceback_frames\u001b[0m\u001b[1;33m(\u001b[0m\u001b[0me\u001b[0m\u001b[1;33m.\u001b[0m\u001b[0m__traceback__\u001b[0m\u001b[1;33m)\u001b[0m\u001b[1;33m\u001b[0m\u001b[1;33m\u001b[0m\u001b[0m\n",
      "\u001b[1;32m~\\.conda\\envs\\tensorflow25\\lib\\site-packages\\keras\\engine\\training.py\u001b[0m in \u001b[0;36mfit\u001b[1;34m(self, x, y, batch_size, epochs, verbose, callbacks, validation_split, validation_data, shuffle, class_weight, sample_weight, initial_epoch, steps_per_epoch, validation_steps, validation_batch_size, validation_freq, max_queue_size, workers, use_multiprocessing)\u001b[0m\n\u001b[0;32m   1382\u001b[0m                 _r=1):\n\u001b[0;32m   1383\u001b[0m               \u001b[0mcallbacks\u001b[0m\u001b[1;33m.\u001b[0m\u001b[0mon_train_batch_begin\u001b[0m\u001b[1;33m(\u001b[0m\u001b[0mstep\u001b[0m\u001b[1;33m)\u001b[0m\u001b[1;33m\u001b[0m\u001b[1;33m\u001b[0m\u001b[0m\n\u001b[1;32m-> 1384\u001b[1;33m               \u001b[0mtmp_logs\u001b[0m \u001b[1;33m=\u001b[0m \u001b[0mself\u001b[0m\u001b[1;33m.\u001b[0m\u001b[0mtrain_function\u001b[0m\u001b[1;33m(\u001b[0m\u001b[0miterator\u001b[0m\u001b[1;33m)\u001b[0m\u001b[1;33m\u001b[0m\u001b[1;33m\u001b[0m\u001b[0m\n\u001b[0m\u001b[0;32m   1385\u001b[0m               \u001b[1;32mif\u001b[0m \u001b[0mdata_handler\u001b[0m\u001b[1;33m.\u001b[0m\u001b[0mshould_sync\u001b[0m\u001b[1;33m:\u001b[0m\u001b[1;33m\u001b[0m\u001b[1;33m\u001b[0m\u001b[0m\n\u001b[0;32m   1386\u001b[0m                 \u001b[0mcontext\u001b[0m\u001b[1;33m.\u001b[0m\u001b[0masync_wait\u001b[0m\u001b[1;33m(\u001b[0m\u001b[1;33m)\u001b[0m\u001b[1;33m\u001b[0m\u001b[1;33m\u001b[0m\u001b[0m\n",
      "\u001b[1;32m~\\.conda\\envs\\tensorflow25\\lib\\site-packages\\tensorflow\\python\\util\\traceback_utils.py\u001b[0m in \u001b[0;36merror_handler\u001b[1;34m(*args, **kwargs)\u001b[0m\n\u001b[0;32m    148\u001b[0m     \u001b[0mfiltered_tb\u001b[0m \u001b[1;33m=\u001b[0m \u001b[1;32mNone\u001b[0m\u001b[1;33m\u001b[0m\u001b[1;33m\u001b[0m\u001b[0m\n\u001b[0;32m    149\u001b[0m     \u001b[1;32mtry\u001b[0m\u001b[1;33m:\u001b[0m\u001b[1;33m\u001b[0m\u001b[1;33m\u001b[0m\u001b[0m\n\u001b[1;32m--> 150\u001b[1;33m       \u001b[1;32mreturn\u001b[0m \u001b[0mfn\u001b[0m\u001b[1;33m(\u001b[0m\u001b[1;33m*\u001b[0m\u001b[0margs\u001b[0m\u001b[1;33m,\u001b[0m \u001b[1;33m**\u001b[0m\u001b[0mkwargs\u001b[0m\u001b[1;33m)\u001b[0m\u001b[1;33m\u001b[0m\u001b[1;33m\u001b[0m\u001b[0m\n\u001b[0m\u001b[0;32m    151\u001b[0m     \u001b[1;32mexcept\u001b[0m \u001b[0mException\u001b[0m \u001b[1;32mas\u001b[0m \u001b[0me\u001b[0m\u001b[1;33m:\u001b[0m\u001b[1;33m\u001b[0m\u001b[1;33m\u001b[0m\u001b[0m\n\u001b[0;32m    152\u001b[0m       \u001b[0mfiltered_tb\u001b[0m \u001b[1;33m=\u001b[0m \u001b[0m_process_traceback_frames\u001b[0m\u001b[1;33m(\u001b[0m\u001b[0me\u001b[0m\u001b[1;33m.\u001b[0m\u001b[0m__traceback__\u001b[0m\u001b[1;33m)\u001b[0m\u001b[1;33m\u001b[0m\u001b[1;33m\u001b[0m\u001b[0m\n",
      "\u001b[1;32m~\\.conda\\envs\\tensorflow25\\lib\\site-packages\\tensorflow\\python\\eager\\def_function.py\u001b[0m in \u001b[0;36m__call__\u001b[1;34m(self, *args, **kwds)\u001b[0m\n\u001b[0;32m    913\u001b[0m \u001b[1;33m\u001b[0m\u001b[0m\n\u001b[0;32m    914\u001b[0m       \u001b[1;32mwith\u001b[0m \u001b[0mOptionalXlaContext\u001b[0m\u001b[1;33m(\u001b[0m\u001b[0mself\u001b[0m\u001b[1;33m.\u001b[0m\u001b[0m_jit_compile\u001b[0m\u001b[1;33m)\u001b[0m\u001b[1;33m:\u001b[0m\u001b[1;33m\u001b[0m\u001b[1;33m\u001b[0m\u001b[0m\n\u001b[1;32m--> 915\u001b[1;33m         \u001b[0mresult\u001b[0m \u001b[1;33m=\u001b[0m \u001b[0mself\u001b[0m\u001b[1;33m.\u001b[0m\u001b[0m_call\u001b[0m\u001b[1;33m(\u001b[0m\u001b[1;33m*\u001b[0m\u001b[0margs\u001b[0m\u001b[1;33m,\u001b[0m \u001b[1;33m**\u001b[0m\u001b[0mkwds\u001b[0m\u001b[1;33m)\u001b[0m\u001b[1;33m\u001b[0m\u001b[1;33m\u001b[0m\u001b[0m\n\u001b[0m\u001b[0;32m    916\u001b[0m \u001b[1;33m\u001b[0m\u001b[0m\n\u001b[0;32m    917\u001b[0m       \u001b[0mnew_tracing_count\u001b[0m \u001b[1;33m=\u001b[0m \u001b[0mself\u001b[0m\u001b[1;33m.\u001b[0m\u001b[0mexperimental_get_tracing_count\u001b[0m\u001b[1;33m(\u001b[0m\u001b[1;33m)\u001b[0m\u001b[1;33m\u001b[0m\u001b[1;33m\u001b[0m\u001b[0m\n",
      "\u001b[1;32m~\\.conda\\envs\\tensorflow25\\lib\\site-packages\\tensorflow\\python\\eager\\def_function.py\u001b[0m in \u001b[0;36m_call\u001b[1;34m(self, *args, **kwds)\u001b[0m\n\u001b[0;32m    945\u001b[0m       \u001b[1;31m# In this case we have created variables on the first call, so we run the\u001b[0m\u001b[1;33m\u001b[0m\u001b[1;33m\u001b[0m\u001b[1;33m\u001b[0m\u001b[0m\n\u001b[0;32m    946\u001b[0m       \u001b[1;31m# defunned version which is guaranteed to never create variables.\u001b[0m\u001b[1;33m\u001b[0m\u001b[1;33m\u001b[0m\u001b[1;33m\u001b[0m\u001b[0m\n\u001b[1;32m--> 947\u001b[1;33m       \u001b[1;32mreturn\u001b[0m \u001b[0mself\u001b[0m\u001b[1;33m.\u001b[0m\u001b[0m_stateless_fn\u001b[0m\u001b[1;33m(\u001b[0m\u001b[1;33m*\u001b[0m\u001b[0margs\u001b[0m\u001b[1;33m,\u001b[0m \u001b[1;33m**\u001b[0m\u001b[0mkwds\u001b[0m\u001b[1;33m)\u001b[0m  \u001b[1;31m# pylint: disable=not-callable\u001b[0m\u001b[1;33m\u001b[0m\u001b[1;33m\u001b[0m\u001b[0m\n\u001b[0m\u001b[0;32m    948\u001b[0m     \u001b[1;32melif\u001b[0m \u001b[0mself\u001b[0m\u001b[1;33m.\u001b[0m\u001b[0m_stateful_fn\u001b[0m \u001b[1;32mis\u001b[0m \u001b[1;32mnot\u001b[0m \u001b[1;32mNone\u001b[0m\u001b[1;33m:\u001b[0m\u001b[1;33m\u001b[0m\u001b[1;33m\u001b[0m\u001b[0m\n\u001b[0;32m    949\u001b[0m       \u001b[1;31m# Release the lock early so that multiple threads can perform the call\u001b[0m\u001b[1;33m\u001b[0m\u001b[1;33m\u001b[0m\u001b[1;33m\u001b[0m\u001b[0m\n",
      "\u001b[1;32m~\\.conda\\envs\\tensorflow25\\lib\\site-packages\\tensorflow\\python\\eager\\function.py\u001b[0m in \u001b[0;36m__call__\u001b[1;34m(self, *args, **kwargs)\u001b[0m\n\u001b[0;32m   2954\u001b[0m       (graph_function,\n\u001b[0;32m   2955\u001b[0m        filtered_flat_args) = self._maybe_define_function(args, kwargs)\n\u001b[1;32m-> 2956\u001b[1;33m     return graph_function._call_flat(\n\u001b[0m\u001b[0;32m   2957\u001b[0m         filtered_flat_args, captured_inputs=graph_function.captured_inputs)  # pylint: disable=protected-access\n\u001b[0;32m   2958\u001b[0m \u001b[1;33m\u001b[0m\u001b[0m\n",
      "\u001b[1;32m~\\.conda\\envs\\tensorflow25\\lib\\site-packages\\tensorflow\\python\\eager\\function.py\u001b[0m in \u001b[0;36m_call_flat\u001b[1;34m(self, args, captured_inputs, cancellation_manager)\u001b[0m\n\u001b[0;32m   1851\u001b[0m         and executing_eagerly):\n\u001b[0;32m   1852\u001b[0m       \u001b[1;31m# No tape is watching; skip to running the function.\u001b[0m\u001b[1;33m\u001b[0m\u001b[1;33m\u001b[0m\u001b[1;33m\u001b[0m\u001b[0m\n\u001b[1;32m-> 1853\u001b[1;33m       return self._build_call_outputs(self._inference_function.call(\n\u001b[0m\u001b[0;32m   1854\u001b[0m           ctx, args, cancellation_manager=cancellation_manager))\n\u001b[0;32m   1855\u001b[0m     forward_backward = self._select_forward_and_backward_functions(\n",
      "\u001b[1;32m~\\.conda\\envs\\tensorflow25\\lib\\site-packages\\tensorflow\\python\\eager\\function.py\u001b[0m in \u001b[0;36mcall\u001b[1;34m(self, ctx, args, cancellation_manager)\u001b[0m\n\u001b[0;32m    497\u001b[0m       \u001b[1;32mwith\u001b[0m \u001b[0m_InterpolateFunctionError\u001b[0m\u001b[1;33m(\u001b[0m\u001b[0mself\u001b[0m\u001b[1;33m)\u001b[0m\u001b[1;33m:\u001b[0m\u001b[1;33m\u001b[0m\u001b[1;33m\u001b[0m\u001b[0m\n\u001b[0;32m    498\u001b[0m         \u001b[1;32mif\u001b[0m \u001b[0mcancellation_manager\u001b[0m \u001b[1;32mis\u001b[0m \u001b[1;32mNone\u001b[0m\u001b[1;33m:\u001b[0m\u001b[1;33m\u001b[0m\u001b[1;33m\u001b[0m\u001b[0m\n\u001b[1;32m--> 499\u001b[1;33m           outputs = execute.execute(\n\u001b[0m\u001b[0;32m    500\u001b[0m               \u001b[0mstr\u001b[0m\u001b[1;33m(\u001b[0m\u001b[0mself\u001b[0m\u001b[1;33m.\u001b[0m\u001b[0msignature\u001b[0m\u001b[1;33m.\u001b[0m\u001b[0mname\u001b[0m\u001b[1;33m)\u001b[0m\u001b[1;33m,\u001b[0m\u001b[1;33m\u001b[0m\u001b[1;33m\u001b[0m\u001b[0m\n\u001b[0;32m    501\u001b[0m               \u001b[0mnum_outputs\u001b[0m\u001b[1;33m=\u001b[0m\u001b[0mself\u001b[0m\u001b[1;33m.\u001b[0m\u001b[0m_num_outputs\u001b[0m\u001b[1;33m,\u001b[0m\u001b[1;33m\u001b[0m\u001b[1;33m\u001b[0m\u001b[0m\n",
      "\u001b[1;32m~\\.conda\\envs\\tensorflow25\\lib\\site-packages\\tensorflow\\python\\eager\\execute.py\u001b[0m in \u001b[0;36mquick_execute\u001b[1;34m(op_name, num_outputs, inputs, attrs, ctx, name)\u001b[0m\n\u001b[0;32m     52\u001b[0m   \u001b[1;32mtry\u001b[0m\u001b[1;33m:\u001b[0m\u001b[1;33m\u001b[0m\u001b[1;33m\u001b[0m\u001b[0m\n\u001b[0;32m     53\u001b[0m     \u001b[0mctx\u001b[0m\u001b[1;33m.\u001b[0m\u001b[0mensure_initialized\u001b[0m\u001b[1;33m(\u001b[0m\u001b[1;33m)\u001b[0m\u001b[1;33m\u001b[0m\u001b[1;33m\u001b[0m\u001b[0m\n\u001b[1;32m---> 54\u001b[1;33m     tensors = pywrap_tfe.TFE_Py_Execute(ctx._handle, device_name, op_name,\n\u001b[0m\u001b[0;32m     55\u001b[0m                                         inputs, attrs, num_outputs)\n\u001b[0;32m     56\u001b[0m   \u001b[1;32mexcept\u001b[0m \u001b[0mcore\u001b[0m\u001b[1;33m.\u001b[0m\u001b[0m_NotOkStatusException\u001b[0m \u001b[1;32mas\u001b[0m \u001b[0me\u001b[0m\u001b[1;33m:\u001b[0m\u001b[1;33m\u001b[0m\u001b[1;33m\u001b[0m\u001b[0m\n",
      "\u001b[1;31mKeyboardInterrupt\u001b[0m: "
     ]
    }
   ],
   "source": [
    "test_network.fit(image_mask_ds, epochs = 600)"
   ]
  },
  {
   "cell_type": "code",
   "execution_count": 274,
   "id": "666e7b07",
   "metadata": {},
   "outputs": [],
   "source": [
    "face_colours_visualisation = face_colours"
   ]
  },
  {
   "cell_type": "code",
   "execution_count": 275,
   "id": "e33d3946",
   "metadata": {},
   "outputs": [
    {
     "name": "stdout",
     "output_type": "stream",
     "text": [
      "[(244, 35, 232), (0, 0, 0)]\n"
     ]
    }
   ],
   "source": [
    "print(face_colours)"
   ]
  },
  {
   "cell_type": "code",
   "execution_count": 276,
   "id": "d4027d6d",
   "metadata": {},
   "outputs": [
    {
     "name": "stdout",
     "output_type": "stream",
     "text": [
      "[(244, 35, 232), (0, 0, 0)]\n"
     ]
    }
   ],
   "source": [
    "print(face_colours_visualisation)"
   ]
  },
  {
   "cell_type": "code",
   "execution_count": 399,
   "id": "313ae47a",
   "metadata": {},
   "outputs": [],
   "source": [
    "def segmentation_visualisation(image, just_mask=True, crop_face = False):\n",
    "    mask = (test_network(image)[4].numpy().squeeze())\n",
    "    maxes = np.argmax(mask, axis = -1)\n",
    "    visualisation = np.zeros((np.shape(mask)[0],np.shape(mask)[1],3))\n",
    "    for x in range(np.shape(visualisation)[0]):\n",
    "        for y in range(np.shape(visualisation)[1]):\n",
    "            visualisation[x,y] = face_colours[maxes[x,y]]\n",
    "    visualisation = visualisation.astype(np.uint8)\n",
    "    if just_mask == True and crop_face == False:\n",
    "        return visualisation.squeeze()\n",
    "    elif just_mask == False and crop_face == False:\n",
    "        binary_mask = (visualisation != (0,0,0))\n",
    "        final = np.where(binary_mask, visualisation, image*255)\n",
    "        return final.squeeze().astype(np.uint8)\n",
    "    if crop_face:\n",
    "        binary_mask = (visualisation != (0,0,0))\n",
    "        black_background = np.zeros((img_size[0],img_size[1],3))\n",
    "        final = np.where(binary_mask, image*255, black_background)\n",
    "        return final.squeeze().astype(np.uint8)"
   ]
  },
  {
   "cell_type": "code",
   "execution_count": null,
   "id": "4d961b25",
   "metadata": {},
   "outputs": [],
   "source": [
    "for path in all_image_paths:\n",
    "    image_number = (path[66:-4])\n",
    "    test_img = tf.reshape(load_and_preprocess_image(path),(1,512,512,3))\n",
    "    test_visualisation = segmentation_visualisation(test_img, just_mask = False, crop_face = True)\n",
    "    cv2.imwrite(('D:\\\\face_detection_v2\\\\Mask_RCNN-master\\\\celeba-hq-crops\\\\'+image_number+'.jpg'), cv2.cvtColor(test_visualisation, cv2.COLOR_RGB2BGR))"
   ]
  },
  {
   "cell_type": "code",
   "execution_count": 403,
   "id": "cfd150e7",
   "metadata": {},
   "outputs": [
    {
     "data": {
      "text/plain": [
       "<matplotlib.image.AxesImage at 0x2180352b670>"
      ]
     },
     "execution_count": 403,
     "metadata": {},
     "output_type": "execute_result"
    },
    {
     "data": {
      "image/png": "[encoded data removed]",
      "text/plain": [
       "<Figure size 432x288 with 1 Axes>"
      ]
     },
     "metadata": {
      "needs_background": "light"
     },
     "output_type": "display_data"
    }
   ],
   "source": [
    "test_img = tf.reshape(load_and_preprocess_image(all_image_paths[random.randint(0,len(all_image_paths))]),(1,512,512,3))\n",
    "test_visualisation = segmentation_visualisation(test_img, just_mask = False, crop_face = True)\n",
    "plt.imshow(test_visualisation)"
   ]
  },
  {
   "cell_type": "code",
   "execution_count": 389,
   "id": "bbade785",
   "metadata": {},
   "outputs": [
    {
     "data": {
      "text/plain": [
       "True"
      ]
     },
     "execution_count": 389,
     "metadata": {},
     "output_type": "execute_result"
    }
   ],
   "source": [
    "cv2.imwrite('D:\\\\Amphora\\\\test_outputs\\\\test_image_railsem_2.jpg', cv2.cvtColor(test_visualisation, cv2.COLOR_RGB2BGR))"
   ]
  },
  {
   "cell_type": "code",
   "execution_count": 645,
   "id": "39170fa7",
   "metadata": {},
   "outputs": [],
   "source": [
    "renormalised_image = (test_img.numpy().squeeze()*255).astype(np.uint8)"
   ]
  },
  {
   "cell_type": "code",
   "execution_count": 647,
   "id": "ff928c3c",
   "metadata": {},
   "outputs": [
    {
     "data": {
      "text/plain": [
       "True"
      ]
     },
     "execution_count": 647,
     "metadata": {},
     "output_type": "execute_result"
    }
   ],
   "source": [
    "cv2.imwrite('D:\\\\Amphora\\\\test_outputs\\\\image_railsem_1.jpg', cv2.cvtColor(renormalised_image, cv2.COLOR_RGB2BGR))"
   ]
  },
  {
   "cell_type": "code",
   "execution_count": 394,
   "id": "9078cdd2",
   "metadata": {},
   "outputs": [],
   "source": [
    "test_network.save_weights('D:\\\\face_detection_v2\\\\Mask_RCNN-master\\\\BiSeNetV2\\\\bisenetv2_face.h5')"
   ]
  },
  {
   "cell_type": "code",
   "execution_count": 402,
   "id": "340d08c7",
   "metadata": {},
   "outputs": [],
   "source": [
    "test_network.load_weights('D:\\\\face_detection_v2\\\\Mask_RCNN-master\\\\BiSeNetV2\\\\bisenetv2_face.h5')"
   ]
  },
  {
   "cell_type": "code",
   "execution_count": null,
   "id": "862df779",
   "metadata": {},
   "outputs": [],
   "source": []
  }
 ],
 "metadata": {
  "kernelspec": {
   "display_name": "Python 3.8 (tensorflow25)",
   "language": "python",
   "name": "tensorflow25"
  },
  "language_info": {
   "codemirror_mode": {
    "name": "ipython",
    "version": 3
   },
   "file_extension": ".py",
   "mimetype": "text/x-python",
   "name": "python",
   "nbconvert_exporter": "python",
   "pygments_lexer": "ipython3",
   "version": "3.8.12"
  }
 },
 "nbformat": 4,
 "nbformat_minor": 5
}
